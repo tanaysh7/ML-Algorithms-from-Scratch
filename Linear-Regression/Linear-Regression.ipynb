{
 "cells": [
  {
   "cell_type": "markdown",
   "metadata": {},
   "source": [
    "## Linear Regression"
   ]
  },
  {
   "cell_type": "code",
   "execution_count": 88,
   "metadata": {},
   "outputs": [],
   "source": [
    "import pandas as pd\n",
    "import numpy as np"
   ]
  },
  {
   "cell_type": "code",
   "execution_count": 314,
   "metadata": {},
   "outputs": [],
   "source": [
    "df=pd.read_csv('./linear_regression.csv')"
   ]
  },
  {
   "cell_type": "code",
   "execution_count": 315,
   "metadata": {},
   "outputs": [],
   "source": [
    "def linear(x,theta):  \n",
    "    result=x.dot(theta[1:])+theta[0]\n",
    "    return result    "
   ]
  },
  {
   "cell_type": "code",
   "execution_count": 318,
   "metadata": {},
   "outputs": [
    {
     "data": {
      "text/plain": [
       "0    2.0\n",
       "1    4.0\n",
       "2   -4.0\n",
       "dtype: float64"
      ]
     },
     "execution_count": 318,
     "metadata": {},
     "output_type": "execute_result"
    }
   ],
   "source": [
    "linear(df[df.columns[:3]][:3],[1,1,1,1])"
   ]
  },
  {
   "cell_type": "code",
   "execution_count": 319,
   "metadata": {},
   "outputs": [],
   "source": [
    "def loss_func(batch,theta):\n",
    "    x = batch[batch.columns[:-1]]\n",
    "    y = batch[batch.columns[-1]]\n",
    "    y_est = linear(x,theta)\n",
    "    loss = (y_est - y).map(lambda x:x**2).mean()\n",
    "    return loss"
   ]
  },
  {
   "cell_type": "code",
   "execution_count": 320,
   "metadata": {},
   "outputs": [
    {
     "data": {
      "text/plain": [
       "40.31034000000003"
      ]
     },
     "execution_count": 320,
     "metadata": {},
     "output_type": "execute_result"
    }
   ],
   "source": [
    "theta=[1,1,1,1]\n",
    "loss_func(df,theta)"
   ]
  },
  {
   "cell_type": "code",
   "execution_count": 333,
   "metadata": {},
   "outputs": [],
   "source": [
    "def gradient(batch,theta):\n",
    "    x = batch[batch.columns[:-1]]\n",
    "    y = batch[batch.columns[-1]]\n",
    "    y_est = linear(x,theta)\n",
    "    bsize=batch.shape[0]\n",
    "    grad_o = -1/2 * sum((y_est- y))/bsize\n",
    "    grad = -1/2 * x.T.dot(y_est - y)/bsize\n",
    "    grad_o=pd.Series(grad_o).append(grad)\n",
    "    return grad_o\n"
   ]
  },
  {
   "cell_type": "code",
   "execution_count": 334,
   "metadata": {},
   "outputs": [
    {
     "data": {
      "text/plain": [
       "0    -1.0\n",
       "x1   -0.5\n",
       "x2    1.5\n",
       "x3   -2.5\n",
       "dtype: float64"
      ]
     },
     "execution_count": 334,
     "metadata": {},
     "output_type": "execute_result"
    }
   ],
   "source": [
    "gradient(df[:2],theta)"
   ]
  },
  {
   "cell_type": "code",
   "execution_count": 312,
   "metadata": {},
   "outputs": [
    {
     "data": {
      "text/plain": [
       "x0   -1.0\n",
       "x1   -0.5\n",
       "x2    1.5\n",
       "x3   -2.5\n",
       "dtype: float64"
      ]
     },
     "execution_count": 312,
     "metadata": {},
     "output_type": "execute_result"
    }
   ],
   "source": [
    "#y_est,y,x=\n",
    "gradient(df[:2],theta)"
   ]
  },
  {
   "cell_type": "code",
   "execution_count": 336,
   "metadata": {},
   "outputs": [
    {
     "data": {
      "text/html": [
       "<div>\n",
       "<style scoped>\n",
       "    .dataframe tbody tr th:only-of-type {\n",
       "        vertical-align: middle;\n",
       "    }\n",
       "\n",
       "    .dataframe tbody tr th {\n",
       "        vertical-align: top;\n",
       "    }\n",
       "\n",
       "    .dataframe thead th {\n",
       "        text-align: right;\n",
       "    }\n",
       "</style>\n",
       "<table border=\"1\" class=\"dataframe\">\n",
       "  <thead>\n",
       "    <tr style=\"text-align: right;\">\n",
       "      <th></th>\n",
       "      <th>x1</th>\n",
       "      <th>x2</th>\n",
       "      <th>x3</th>\n",
       "      <th>y</th>\n",
       "    </tr>\n",
       "  </thead>\n",
       "  <tbody>\n",
       "    <tr>\n",
       "      <th>0</th>\n",
       "      <td>0.0</td>\n",
       "      <td>-2.0</td>\n",
       "      <td>3.0</td>\n",
       "      <td>-1.0</td>\n",
       "    </tr>\n",
       "    <tr>\n",
       "      <th>1</th>\n",
       "      <td>2.0</td>\n",
       "      <td>0.0</td>\n",
       "      <td>1.0</td>\n",
       "      <td>3.0</td>\n",
       "    </tr>\n",
       "    <tr>\n",
       "      <th>2</th>\n",
       "      <td>-2.0</td>\n",
       "      <td>0.0</td>\n",
       "      <td>-3.0</td>\n",
       "      <td>-3.1</td>\n",
       "    </tr>\n",
       "    <tr>\n",
       "      <th>3</th>\n",
       "      <td>-1.0</td>\n",
       "      <td>2.0</td>\n",
       "      <td>1.0</td>\n",
       "      <td>-0.0</td>\n",
       "    </tr>\n",
       "    <tr>\n",
       "      <th>4</th>\n",
       "      <td>3.0</td>\n",
       "      <td>3.0</td>\n",
       "      <td>-4.0</td>\n",
       "      <td>-9.0</td>\n",
       "    </tr>\n",
       "  </tbody>\n",
       "</table>\n",
       "</div>"
      ],
      "text/plain": [
       "    x1   x2   x3    y\n",
       "0  0.0 -2.0  3.0 -1.0\n",
       "1  2.0  0.0  1.0  3.0\n",
       "2 -2.0  0.0 -3.0 -3.1\n",
       "3 -1.0  2.0  1.0 -0.0\n",
       "4  3.0  3.0 -4.0 -9.0"
      ]
     },
     "execution_count": 336,
     "metadata": {},
     "output_type": "execute_result"
    }
   ],
   "source": [
    "df.head()"
   ]
  },
  {
   "cell_type": "markdown",
   "metadata": {},
   "source": [
    "### Perform Gradient Descent"
   ]
  },
  {
   "cell_type": "code",
   "execution_count": 337,
   "metadata": {},
   "outputs": [
    {
     "name": "stdout",
     "output_type": "stream",
     "text": [
      "Iteration: 20 - Error: 0.4407967072476012\n",
      "0    -1.423233\n",
      "x1   -0.955098\n",
      "x2    0.036425\n",
      "x3    1.048440\n",
      "dtype: float64\n",
      "Iteration: 40 - Error: 0.16821891768946393\n",
      "0    -1.895366\n",
      "x1   -0.988989\n",
      "x2    0.004626\n",
      "x3    1.011001\n",
      "dtype: float64\n",
      "Converged.\n"
     ]
    }
   ],
   "source": [
    "w = theta\n",
    "alpha = 0.2\n",
    "tolerance = 0.165\n",
    "\n",
    "\n",
    "iterations = 1\n",
    "batch = df[:400]\n",
    "while True:\n",
    "    gradients, error = gradient(batch,w),loss_func(batch,w)\n",
    "    new_w = w + alpha * gradients\n",
    "    \n",
    "    # Stopping Condition\n",
    "    if loss_func(batch,w) < tolerance:\n",
    "        print (\"Converged.\")\n",
    "        break\n",
    "    \n",
    "    # Print error every 20 iterations\n",
    "    if iterations % 20 == 0:\n",
    "        print (\"Iteration: {} - Error: {}\".format(iterations, error))\n",
    "        print(w)\n",
    "    \n",
    "    iterations += 1\n",
    "    w = new_w"
   ]
  },
  {
   "cell_type": "markdown",
   "metadata": {},
   "source": [
    "### Verify result with Scikit-learn"
   ]
  },
  {
   "cell_type": "code",
   "execution_count": 335,
   "metadata": {},
   "outputs": [
    {
     "name": "stdout",
     "output_type": "stream",
     "text": [
      "0.9913928803342118\n",
      "[-1.0, -0.0, 1.0] -1.9906408323954137\n"
     ]
    }
   ],
   "source": [
    "from sklearn import linear_model\n",
    "cls= linear_model.LinearRegression()\n",
    "x = df[df.columns[:-1]]\n",
    "y = df[df.columns[-1]]\n",
    "cls.fit(x,y)\n",
    "print(cls.score(x,y))\n",
    "print([ round(i) for i in cls.coef_],cls.intercept_)"
   ]
  }
 ],
 "metadata": {
  "kernelspec": {
   "display_name": "Python 3",
   "language": "python",
   "name": "python3"
  },
  "language_info": {
   "codemirror_mode": {
    "name": "ipython",
    "version": 3
   },
   "file_extension": ".py",
   "mimetype": "text/x-python",
   "name": "python",
   "nbconvert_exporter": "python",
   "pygments_lexer": "ipython3",
   "version": "3.7.4"
  }
 },
 "nbformat": 4,
 "nbformat_minor": 2
}
